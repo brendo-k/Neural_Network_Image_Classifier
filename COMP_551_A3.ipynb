{
  "nbformat": 4,
  "nbformat_minor": 0,
  "metadata": {
    "colab": {
      "name": "COMP-551-A3.ipynb",
      "provenance": [],
      "collapsed_sections": [],
      "include_colab_link": true
    },
    "kernelspec": {
      "name": "python3",
      "display_name": "Python 3"
    },
    "accelerator": "GPU",
    "widgets": {
      "application/vnd.jupyter.widget-state+json": {
        "d25d31dd136d4aec80d779f9a6cbb889": {
          "model_module": "@jupyter-widgets/controls",
          "model_name": "HBoxModel",
          "state": {
            "_view_name": "HBoxView",
            "_dom_classes": [],
            "_model_name": "HBoxModel",
            "_view_module": "@jupyter-widgets/controls",
            "_model_module_version": "1.5.0",
            "_view_count": null,
            "_view_module_version": "1.5.0",
            "box_style": "",
            "layout": "IPY_MODEL_2aaef383f0f049c1a11a275001b9d259",
            "_model_module": "@jupyter-widgets/controls",
            "children": [
              "IPY_MODEL_bf11d0ffc79b4fbcb42337bda3e03beb",
              "IPY_MODEL_9d6d6476f48145fc950ba2078cdf95bc"
            ]
          }
        },
        "2aaef383f0f049c1a11a275001b9d259": {
          "model_module": "@jupyter-widgets/base",
          "model_name": "LayoutModel",
          "state": {
            "_view_name": "LayoutView",
            "grid_template_rows": null,
            "right": null,
            "justify_content": null,
            "_view_module": "@jupyter-widgets/base",
            "overflow": null,
            "_model_module_version": "1.2.0",
            "_view_count": null,
            "flex_flow": null,
            "width": null,
            "min_width": null,
            "border": null,
            "align_items": null,
            "bottom": null,
            "_model_module": "@jupyter-widgets/base",
            "top": null,
            "grid_column": null,
            "overflow_y": null,
            "overflow_x": null,
            "grid_auto_flow": null,
            "grid_area": null,
            "grid_template_columns": null,
            "flex": null,
            "_model_name": "LayoutModel",
            "justify_items": null,
            "grid_row": null,
            "max_height": null,
            "align_content": null,
            "visibility": null,
            "align_self": null,
            "height": null,
            "min_height": null,
            "padding": null,
            "grid_auto_rows": null,
            "grid_gap": null,
            "max_width": null,
            "order": null,
            "_view_module_version": "1.2.0",
            "grid_template_areas": null,
            "object_position": null,
            "object_fit": null,
            "grid_auto_columns": null,
            "margin": null,
            "display": null,
            "left": null
          }
        },
        "bf11d0ffc79b4fbcb42337bda3e03beb": {
          "model_module": "@jupyter-widgets/controls",
          "model_name": "IntProgressModel",
          "state": {
            "_view_name": "ProgressView",
            "style": "IPY_MODEL_59dc73b768e3400999dc7bbe6b7ef3ab",
            "_dom_classes": [],
            "description": "",
            "_model_name": "IntProgressModel",
            "bar_style": "info",
            "max": 1,
            "_view_module": "@jupyter-widgets/controls",
            "_model_module_version": "1.5.0",
            "value": 1,
            "_view_count": null,
            "_view_module_version": "1.5.0",
            "orientation": "horizontal",
            "min": 0,
            "description_tooltip": null,
            "_model_module": "@jupyter-widgets/controls",
            "layout": "IPY_MODEL_03834f66376a40f890beef1d4ff0b494"
          }
        },
        "9d6d6476f48145fc950ba2078cdf95bc": {
          "model_module": "@jupyter-widgets/controls",
          "model_name": "HTMLModel",
          "state": {
            "_view_name": "HTMLView",
            "style": "IPY_MODEL_170e6d67d2f44d81a8d7a78a42c6f3dc",
            "_dom_classes": [],
            "description": "",
            "_model_name": "HTMLModel",
            "placeholder": "​",
            "_view_module": "@jupyter-widgets/controls",
            "_model_module_version": "1.5.0",
            "value": " 170500096/? [00:30&lt;00:00, 17294533.99it/s]",
            "_view_count": null,
            "_view_module_version": "1.5.0",
            "description_tooltip": null,
            "_model_module": "@jupyter-widgets/controls",
            "layout": "IPY_MODEL_4437a1e5c1784fd997cc30f677d73a0c"
          }
        },
        "59dc73b768e3400999dc7bbe6b7ef3ab": {
          "model_module": "@jupyter-widgets/controls",
          "model_name": "ProgressStyleModel",
          "state": {
            "_view_name": "StyleView",
            "_model_name": "ProgressStyleModel",
            "description_width": "initial",
            "_view_module": "@jupyter-widgets/base",
            "_model_module_version": "1.5.0",
            "_view_count": null,
            "_view_module_version": "1.2.0",
            "bar_color": null,
            "_model_module": "@jupyter-widgets/controls"
          }
        },
        "03834f66376a40f890beef1d4ff0b494": {
          "model_module": "@jupyter-widgets/base",
          "model_name": "LayoutModel",
          "state": {
            "_view_name": "LayoutView",
            "grid_template_rows": null,
            "right": null,
            "justify_content": null,
            "_view_module": "@jupyter-widgets/base",
            "overflow": null,
            "_model_module_version": "1.2.0",
            "_view_count": null,
            "flex_flow": null,
            "width": null,
            "min_width": null,
            "border": null,
            "align_items": null,
            "bottom": null,
            "_model_module": "@jupyter-widgets/base",
            "top": null,
            "grid_column": null,
            "overflow_y": null,
            "overflow_x": null,
            "grid_auto_flow": null,
            "grid_area": null,
            "grid_template_columns": null,
            "flex": null,
            "_model_name": "LayoutModel",
            "justify_items": null,
            "grid_row": null,
            "max_height": null,
            "align_content": null,
            "visibility": null,
            "align_self": null,
            "height": null,
            "min_height": null,
            "padding": null,
            "grid_auto_rows": null,
            "grid_gap": null,
            "max_width": null,
            "order": null,
            "_view_module_version": "1.2.0",
            "grid_template_areas": null,
            "object_position": null,
            "object_fit": null,
            "grid_auto_columns": null,
            "margin": null,
            "display": null,
            "left": null
          }
        },
        "170e6d67d2f44d81a8d7a78a42c6f3dc": {
          "model_module": "@jupyter-widgets/controls",
          "model_name": "DescriptionStyleModel",
          "state": {
            "_view_name": "StyleView",
            "_model_name": "DescriptionStyleModel",
            "description_width": "",
            "_view_module": "@jupyter-widgets/base",
            "_model_module_version": "1.5.0",
            "_view_count": null,
            "_view_module_version": "1.2.0",
            "_model_module": "@jupyter-widgets/controls"
          }
        },
        "4437a1e5c1784fd997cc30f677d73a0c": {
          "model_module": "@jupyter-widgets/base",
          "model_name": "LayoutModel",
          "state": {
            "_view_name": "LayoutView",
            "grid_template_rows": null,
            "right": null,
            "justify_content": null,
            "_view_module": "@jupyter-widgets/base",
            "overflow": null,
            "_model_module_version": "1.2.0",
            "_view_count": null,
            "flex_flow": null,
            "width": null,
            "min_width": null,
            "border": null,
            "align_items": null,
            "bottom": null,
            "_model_module": "@jupyter-widgets/base",
            "top": null,
            "grid_column": null,
            "overflow_y": null,
            "overflow_x": null,
            "grid_auto_flow": null,
            "grid_area": null,
            "grid_template_columns": null,
            "flex": null,
            "_model_name": "LayoutModel",
            "justify_items": null,
            "grid_row": null,
            "max_height": null,
            "align_content": null,
            "visibility": null,
            "align_self": null,
            "height": null,
            "min_height": null,
            "padding": null,
            "grid_auto_rows": null,
            "grid_gap": null,
            "max_width": null,
            "order": null,
            "_view_module_version": "1.2.0",
            "grid_template_areas": null,
            "object_position": null,
            "object_fit": null,
            "grid_auto_columns": null,
            "margin": null,
            "display": null,
            "left": null
          }
        }
      }
    }
  },
  "cells": [
    {
      "cell_type": "markdown",
      "metadata": {
        "id": "view-in-github",
        "colab_type": "text"
      },
      "source": [
        "<a href=\"https://colab.research.google.com/github/brendo-k/Neural_Network_Image_Classifier/blob/master/COMP_551_A3.ipynb\" target=\"_parent\"><img src=\"https://colab.research.google.com/assets/colab-badge.svg\" alt=\"Open In Colab\"/></a>"
      ]
    },
    {
      "cell_type": "markdown",
      "metadata": {
        "id": "bPhvGivJU889",
        "colab_type": "text"
      },
      "source": [
        "# General\n",
        "---\n"
      ]
    },
    {
      "cell_type": "markdown",
      "metadata": {
        "id": "2D6_HvMKUcSU",
        "colab_type": "text"
      },
      "source": [
        "## Steps to train an image classifier\n",
        "\n",
        "1. Load and normalizing the CIFAR10 training and test datasets using torchvision\n",
        "2. Define a neural network\n",
        "3. Define a loss function\n",
        "4. Train the network on the training data\n",
        "5. Test the network on the test data"
      ]
    },
    {
      "cell_type": "markdown",
      "metadata": {
        "id": "WNekQT0GN4V0",
        "colab_type": "text"
      },
      "source": [
        "# Multilayer Perceptron\n",
        "\n",
        "---"
      ]
    },
    {
      "cell_type": "code",
      "metadata": {
        "colab_type": "code",
        "id": "_c_dSrsr45B3",
        "colab": {}
      },
      "source": [
        "import numpy as np\n",
        "import matplotlib.pyplot as plt\n",
        "%load_ext autoreload\n",
        "%autoreload 2"
      ],
      "execution_count": 0,
      "outputs": []
    },
    {
      "cell_type": "markdown",
      "metadata": {
        "id": "jOzyEXFmkYlJ",
        "colab_type": "text"
      },
      "source": [
        " 1 Defining Layer classes\n"
      ]
    },
    {
      "cell_type": "code",
      "metadata": {
        "colab_type": "code",
        "id": "f3qnSkQVkG9J",
        "cellView": "code",
        "colab": {}
      },
      "source": [
        "class Layer:  # defines a single layer\n",
        "  \n",
        "  def __init__(self, input_nodes, output_nodes, learning = 0.01):\n",
        "    self.W = np.random.rand(input_nodes + 1, output_nodes)\n",
        "    self.W *= 2\n",
        "    self.W -= 1\n",
        "    self.lr = learning\n",
        "    self.dW = np.zeros([self.W.shape[0], self.W.shape[1]])\n",
        "    \n",
        "\n",
        "  def feedforward(self, input): # performs and returns: output = W * (input + b)\n",
        "    input = np.append(input, np.ones([input.shape[0], 1]), axis=1) #need to append ones to the input for the bias\n",
        "    return np.dot(input, self.W) #output after this layer\n",
        "\n",
        "  def backprop(self, input, grad_out, learning, beta):\n",
        "    nodeWeights = self.W.T[:, :-1] #remove the weights associated with the bias\n",
        "    gradient_out = np.dot(grad_out, nodeWeights) #d/dX\n",
        "    input = np.append(input, np.ones([input.shape[0], 1]), axis=1) #appending ones to the input for bias\n",
        "    self.dW = (1-beta)*np.dot(input.T, grad_out)+beta*(self.dW) #d/dW with momentum\n",
        "    self.W -= self.lr * self.dW #gradient descent with learning rate\n",
        "\n",
        "    return gradient_out\n",
        "\n"
      ],
      "execution_count": 0,
      "outputs": []
    },
    {
      "cell_type": "code",
      "metadata": {
        "id": "QjV9aSkBktP5",
        "colab_type": "code",
        "colab": {}
      },
      "source": [
        "class ReLU(): # defines ReLU act. fun. application (can be own layer)\n",
        " \n",
        "  def feedforward(self,input): # apply activation fun\n",
        "    return np.maximum(0,input) #output after going through this activation function\n",
        "\n",
        "  def backprop(self, input, grad_out, learning, beta): # grad of loss w.r.t input\n",
        "    grad = input > 0 #derivative of ReLU\n",
        "    return grad_out*grad #propagate backwards"
      ],
      "execution_count": 0,
      "outputs": []
    },
    {
      "cell_type": "code",
      "metadata": {
        "colab_type": "code",
        "id": "LDqZaBYPQxkN",
        "colab": {}
      },
      "source": [
        "class sigmoid():  # defines sigmoid act. fun. application (can be own layer)\n",
        " \n",
        "  def feedforward(self,input): # apply activation fun\n",
        "    return 1/(1 + np.exp(-input)) #output \n",
        "\n",
        "  def backprop(self, input, grad_out, learning, beta): # grad of loss w.r.t input\n",
        "    return self.feedforward(input)*(1-self.feedforward(input)) * grad_out #propagate backwards"
      ],
      "execution_count": 0,
      "outputs": []
    },
    {
      "cell_type": "code",
      "metadata": {
        "id": "xv0zCyCSMFEA",
        "colab_type": "code",
        "colab": {}
      },
      "source": [
        "class tanh():\n",
        "  def feedforward(self, input):\n",
        "      return (np.exp(input)-np.exp(-input))/(np.exp(input)+np.exp(-input)) #output\n",
        "\n",
        "  def backprop(self, input, grad_out, learning, beta): # grad of loss w.r.t input \n",
        "    return (1-((np.exp(input)-np.exp(-input))/(np.exp(input)+np.exp(-input)))**2)*grad_out #propagate backwards"
      ],
      "execution_count": 0,
      "outputs": []
    },
    {
      "cell_type": "code",
      "metadata": {
        "id": "PXtyn7XilkK3",
        "colab_type": "code",
        "colab": {}
      },
      "source": [
        "class loss_funs: # log-softmax gives better numerical stability, easier to get deriv, faster to compute\n",
        "  \n",
        "  def softmax_log_ce(logits,real_y):\n",
        "    # Compute crossentropy from logits[batch,n_classes] and ids of correct answers\n",
        "    logits_for_answers = logits[np.arange(len(logits)),real_y]\n",
        "    ce_loss = - logits_for_answers + np.log(np.sum(np.exp(logits),axis=-1))\n",
        "    return ce_loss #loss\n",
        "  def grad_softmax_log_ce(logits,realY):\n",
        "    # Compute crossentropy gradient from logits[batch,n_classes] and ids of correct answers\n",
        "    ones_for_answers = np.zeros_like(logits)\n",
        "    ones_for_answers[np.arange(len(logits)),realY] = 1\n",
        "    softmax = np.exp(logits) / np.exp(logits).sum(axis=-1,keepdims=True) # softmax so sum to 1\n",
        "    return (- ones_for_answers + softmax) / logits.shape[0] "
      ],
      "execution_count": 0,
      "outputs": []
    },
    {
      "cell_type": "markdown",
      "metadata": {
        "id": "gZZ5hASi4UtR",
        "colab_type": "text"
      },
      "source": [
        "MLP methods"
      ]
    },
    {
      "cell_type": "code",
      "metadata": {
        "id": "wrA8m5uUuqRl",
        "colab_type": "code",
        "colab": {}
      },
      "source": [
        "def forward(mlp, X): #\n",
        "  activations = []\n",
        "  for layer in mlp:\n",
        "    act = layer.feedforward(X)\n",
        "    if(isinstance(layer, Layer)):\n",
        "      act = normalize(act)\n",
        "    activations.append(act)\n",
        "    X = activations[-1]\n",
        "  return activations"
      ],
      "execution_count": 0,
      "outputs": []
    },
    {
      "cell_type": "code",
      "metadata": {
        "id": "SyjT7bsXvde5",
        "colab_type": "code",
        "colab": {}
      },
      "source": [
        "def predict(mlp, x):\n",
        "  probabilities = soft_max(forward(mlp, x)[-1])\n",
        "  return np.argmax(probabilities, axis=1)"
      ],
      "execution_count": 0,
      "outputs": []
    },
    {
      "cell_type": "code",
      "metadata": {
        "id": "fYPbgK91vuNf",
        "colab_type": "code",
        "colab": {}
      },
      "source": [
        "def miniBatchSGD(x, y, mlp, epoch_runs, lr=.01, eps=1e-2, bsize=8, beta=.90):\n",
        "  subsampleX = x\n",
        "  subsampleY = y\n",
        "  loss = []\n",
        "  epoch = 0\n",
        "  epoch_loss = []\n",
        "  train_acc =[]\n",
        "  while (epoch < epoch_runs):\n",
        "\n",
        "    minibatch = np.random.randint(subsampleX.shape[0], size=(bsize))\n",
        "    batchX = subsampleX[minibatch]\n",
        "    batchY = subsampleY[minibatch]\n",
        "    subsampleX = np.delete(subsampleX, minibatch, axis=0)\n",
        "    subsampleY = np.delete(subsampleY, minibatch, axis=0)\n",
        "    loss.append(train(mlp, batchX, batchY, lr, beta))\n",
        "    if(subsampleX.shape[0] == 0):\n",
        "      subsampleX = x\n",
        "      subsampleY = y\n",
        "      epoch += 1\n",
        "      epoch_loss.append(np.average(loss))\n",
        "      loss = []\n",
        "      y_train = predict(mlp, x)\n",
        "      train_acc.append(getAccuracy(y_train, y))\n",
        "      \n",
        "\n",
        "    \n",
        "  return train_acc, epoch_loss\n",
        "    \n",
        "\n"
      ],
      "execution_count": 0,
      "outputs": []
    },
    {
      "cell_type": "code",
      "metadata": {
        "id": "zUaAuEJf37zU",
        "colab_type": "code",
        "colab": {}
      },
      "source": [
        "def train(mlp, x, y, lr, beta):\n",
        "  activation = forward(mlp, x)\n",
        "  activation = [x] + activation\n",
        "  loss = loss_funs.softmax_log_ce(soft_max(activation[-1]), y)\n",
        "  loss_grad = loss_funs.grad_softmax_log_ce(activation[-1], y)\n",
        "  for i in range(len(mlp))[::-1]:\n",
        "    \n",
        "    loss_grad = mlp[i].backprop(activation[i], loss_grad, lr, beta)\n",
        "  return np.average(loss)"
      ],
      "execution_count": 0,
      "outputs": []
    },
    {
      "cell_type": "code",
      "metadata": {
        "id": "Ma1nmHVeXPKV",
        "colab_type": "code",
        "colab": {}
      },
      "source": [
        "def soft_max(input): #softmax function of last activation layer\n",
        "  softmax = np.exp(input)\n",
        "  normalize = np.sum(np.exp(input), axis=1)\n",
        "  softmax = softmax.T / normalize\n",
        "  softmax = softmax.T\n",
        "  return softmax\n",
        "    "
      ],
      "execution_count": 0,
      "outputs": []
    },
    {
      "cell_type": "code",
      "metadata": {
        "id": "TPtt9DAzPysY",
        "colab_type": "code",
        "colab": {}
      },
      "source": [
        "def normalize(input): #normalizes data\n",
        "  u = np.mean(input, axis=0)\n",
        "  sig = np.std(input, axis=0)\n",
        "  sig = sig+0.001\n",
        "  return (input-u)/sig"
      ],
      "execution_count": 0,
      "outputs": []
    },
    {
      "cell_type": "markdown",
      "metadata": {
        "id": "svTcydCOk8dU",
        "colab_type": "text"
      },
      "source": [
        "Loading the dataset"
      ]
    },
    {
      "cell_type": "code",
      "metadata": {
        "id": "LU07yWVPXHPd",
        "colab_type": "code",
        "outputId": "6312a841-320d-4d6c-ba7d-99bb417f0eb5",
        "colab": {
          "base_uri": "https://localhost:8080/",
          "height": 35
        }
      },
      "source": [
        "trainX = trainset.data.reshape([trainset.data.shape[0], -1])\n",
        "testX = testset.data.reshape([testset.data.shape[0], -1])\n",
        "trainlabels = np.asarray(trainset.targets)\n",
        "testlabels = np.asarray(testset.targets)\n",
        "trainX = trainX - np.mean(trainX, axis=0)\n",
        "trainX = trainX/(np.std(trainX, axis=0))\n",
        "testX = testX - np.mean(testX, axis=0)\n",
        "testX = testX/(np.std(testX, axis=0))\n",
        "print(testX.shape)"
      ],
      "execution_count": 0,
      "outputs": [
        {
          "output_type": "stream",
          "text": [
            "(10000, 3072)\n"
          ],
          "name": "stdout"
        }
      ]
    },
    {
      "cell_type": "markdown",
      "metadata": {
        "id": "fmu-VhDzjBGN",
        "colab_type": "text"
      },
      "source": [
        "Validation Set"
      ]
    },
    {
      "cell_type": "code",
      "metadata": {
        "id": "vw6owvWBi-lC",
        "colab_type": "code",
        "colab": {}
      },
      "source": [
        "valIndecies = np.random.randint(trainX.shape[0], size = 1000) #picking 1000 random indecies\n",
        "valX = trainX[valIndecies] #pick the data from the train set\n",
        "valLabels = trainlabels[valIndecies] #pick the lavells from the train set\n",
        "trainX = np.delete(trainX, valIndecies, axis=0) #remove the validation data \n",
        "trainlabels = np.delete(trainlabels, valIndecies, axis = 0) #remove the validation labels"
      ],
      "execution_count": 0,
      "outputs": []
    },
    {
      "cell_type": "markdown",
      "metadata": {
        "id": "H1-724AB4Z6x",
        "colab_type": "text"
      },
      "source": [
        "Training the data test and testing on validation set"
      ]
    },
    {
      "cell_type": "code",
      "metadata": {
        "id": "yXpJDKEAzRw3",
        "colab_type": "code",
        "outputId": "1f644397-fd18-4a67-9f4c-7c048e60fedc",
        "colab": {
          "base_uri": "https://localhost:8080/",
          "height": 35
        }
      },
      "source": [
        "import time\n",
        "batchSize = 512\n",
        "epoch = 100\n",
        "trainacc = []\n",
        "trainloss =[]\n",
        "valacc = []\n",
        "valLoss = []\n",
        "\n",
        "mlp = []\n",
        "mlp.append(Layer(trainX.shape[1], 100))\n",
        "mlp.append(ReLU())\n",
        "mlp.append(Layer(100, 10))\n",
        "\n",
        "# mlp_r_2 = []\n",
        "# mlp_r_2.append(Layer(trainX.shape[1], 500))\n",
        "# mlp_r_2.append(ReLU())\n",
        "# mlp_r_2.append(Layer(500, 300))\n",
        "# mlp_r_2.append(ReLU())\n",
        "# mlp_r_2.append(Layer(300, 10))\n",
        "\n",
        "t1 = time.time()\n",
        "for i in range(epoch):\n",
        "  [acc, loss] = miniBatchSGD(trainX,trainlabels, mlp_r_2, 1, bsize=batchSize)\n",
        "  trainacc.append(acc[0])\n",
        "  trainloss.append(loss[0])\n",
        "  activation = soft_max(forward(mlp_r_2, valX)[-1])\n",
        "  y_hat = np.argmax(activation, axis = 1)\n",
        "  valacc.append(getAccuracy(y_hat, valLabels))\n",
        "  valLoss.append(loss_funs.softmax_log_ce(activation, valLabels))\n",
        "\n",
        "\n",
        "t2 = time.time()\n",
        "print(t2-t1)\n"
      ],
      "execution_count": 0,
      "outputs": [
        {
          "output_type": "stream",
          "text": [
            "3428.104079723358\n"
          ],
          "name": "stdout"
        }
      ]
    },
    {
      "cell_type": "markdown",
      "metadata": {
        "id": "T1uviJUR4j4x",
        "colab_type": "text"
      },
      "source": [
        "Plotting accuracy vs epoch "
      ]
    },
    {
      "cell_type": "code",
      "metadata": {
        "id": "KZETl4FN4fiU",
        "colab_type": "code",
        "outputId": "21431dbd-3bd8-4d74-c755-bb276a50420f",
        "colab": {
          "base_uri": "https://localhost:8080/",
          "height": 313
        }
      },
      "source": [
        "y = predict(mlp_r_2, testX)\n",
        "print(getAccuracy(y, testlabels))\n",
        "plt.plot(np.linspace(1, epoch, epoch), trainacc, label = \"train\")\n",
        "plt.plot(np.linspace(1, epoch, epoch), valacc, label = \"test\")\n",
        "plt.plot(np.arange(1, epoch+1), np.full([len(valacc)], valacc[np.argmax(valacc)]), color=\"orange\", linestyle=\"--\")\n",
        "plt.title(\"MLP: Validation Accuracy vs. Number of Training Epoch\")\n",
        "plt.xlabel(\"Epoch\")\n",
        "plt.ylabel(\"Accuracy\")\n",
        "plt.legend()\n",
        "plt.show()"
      ],
      "execution_count": 0,
      "outputs": [
        {
          "output_type": "stream",
          "text": [
            "0.3405\n"
          ],
          "name": "stdout"
        },
        {
          "output_type": "display_data",
          "data": {
            "image/png": "[encoded data removed]",
            "text/plain": [
              "<Figure size 432x288 with 1 Axes>"
            ]
          },
          "metadata": {
            "tags": [],
            "needs_background": "light"
          }
        }
      ]
    },
    {
      "cell_type": "code",
      "metadata": {
        "id": "opIlPpYXE-ub",
        "colab_type": "code",
        "colab": {}
      },
      "source": [
        ""
      ],
      "execution_count": 0,
      "outputs": []
    },
    {
      "cell_type": "markdown",
      "metadata": {
        "id": "vgfQ7uA64pAV",
        "colab_type": "text"
      },
      "source": [
        "Plotting loss vs epoch"
      ]
    },
    {
      "cell_type": "code",
      "metadata": {
        "id": "HLVj25dR4ieH",
        "colab_type": "code",
        "outputId": "c2313a8c-5882-40e0-f199-34853fe29f30",
        "colab": {
          "base_uri": "https://localhost:8080/",
          "height": 313
        }
      },
      "source": [
        "y = predict(mlp_r_2, testX)\n",
        "print(getAccuracy(y, testlabels))\n",
        "plt.plot(np.linspace(1, epoch, epoch), trainloss, label = \"train\")\n",
        "#plt.plot(np.linspace(1, epoch, epoch), valLoss, label = \"test\")\n",
        "#plt.plot(np.arange(1, epoch+1), np.full([len(valLoss)], valLoss[np.argmin(valLoss)]), color=\"orange\", linestyle=\"--\")\n",
        "plt.title(\"MLP: Loss Evolution vs. Number of Training Epoch\")\n",
        "plt.xlabel(\"Epoch\")\n",
        "plt.ylabel(\"Loss\")\n",
        "plt.show()"
      ],
      "execution_count": 0,
      "outputs": [
        {
          "output_type": "stream",
          "text": [
            "0.3405\n"
          ],
          "name": "stdout"
        },
        {
          "output_type": "display_data",
          "data": {
            "image/png": "[encoded data removed]",
            "text/plain": [
              "<Figure size 432x288 with 1 Axes>"
            ]
          },
          "metadata": {
            "tags": [],
            "needs_background": "light"
          }
        }
      ]
    },
    {
      "cell_type": "markdown",
      "metadata": {
        "id": "P0EezTnkkyJF",
        "colab_type": "text"
      },
      "source": [
        "####Defining the Multi Layer Perceptron as a **list**\n",
        "Different models selection"
      ]
    },
    {
      "cell_type": "code",
      "metadata": {
        "id": "QLSHpw-2unkS",
        "colab_type": "code",
        "colab": {}
      },
      "source": [
        "mlp_r_1 = []\n",
        "mlp_r_1.append(Layer(trainX.shape[1], 100))\n",
        "mlp_r_1.append(ReLU())\n",
        "mlp_r_1.append(Layer(100, 10))\n",
        "\n",
        "mlp_r_2 = []\n",
        "mlp_r_2.append(Layer(trainX.shape[1], 500))\n",
        "mlp_r_2.append(ReLU())\n",
        "mlp_r_2.append(Layer(500, 300))\n",
        "mlp_r_2.append(ReLU())\n",
        "mlp_r_2.append(Layer(300, 10))\n",
        "\n",
        "mlp_r_3 = []\n",
        "mlp_r_3.append(Layer(trainX.shape[1], 600))\n",
        "mlp_r_3.append(ReLU())\n",
        "mlp_r_3.append(Layer(600, 300))\n",
        "mlp_r_3.append(ReLU())\n",
        "mlp_r_3.append(Layer(300, 100))\n",
        "mlp_r_3.append(ReLU())\n",
        "mlp_r_3.append(Layer(100, 10))\n",
        "\n",
        "mlp_r_4 = []\n",
        "mlp_r_4.append(Layer(trainX.shape[1], 700))\n",
        "mlp_r_4.append(ReLU())\n",
        "mlp_r_4.append(Layer(700, 400))\n",
        "mlp_r_4.append(ReLU())\n",
        "mlp_r_4.append(Layer(400, 200))\n",
        "mlp_r_4.append(ReLU())\n",
        "mlp_r_4.append(Layer(200, 50))\n",
        "mlp_r_4.append(ReLU())\n",
        "mlp_r_4.append(Layer(50, 10))\n",
        "\n",
        "mlp_s_1 = []\n",
        "mlp_s_1.append(Layer(trainX.shape[1], 100))\n",
        "mlp_s_1.append(sigmoid())\n",
        "mlp_s_1.append(Layer(100, 10))\n",
        "\n",
        "mlp_s_2 = []\n",
        "mlp_s_2.append(Layer(trainX.shape[1], 500))\n",
        "mlp_s_2.append(sigmoid())\n",
        "mlp_s_2.append(Layer(500, 300))\n",
        "mlp_s_2.append(sigmoid())\n",
        "mlp_s_2.append(Layer(300, 10))\n",
        "\n",
        "mlp_s_3 = []\n",
        "mlp_s_3.append(Layer(trainX.shape[1], 600))\n",
        "mlp_s_3.append(sigmoid())\n",
        "mlp_s_3.append(Layer(600, 300))\n",
        "mlp_s_3.append(sigmoid())\n",
        "mlp_s_3.append(Layer(300, 100))\n",
        "mlp_s_3.append(sigmoid())\n",
        "mlp_s_3.append(Layer(100, 10))\n",
        "\n",
        "mlp_s_4 = []\n",
        "mlp_s_4.append(Layer(trainX.shape[1], 700))\n",
        "mlp_s_4.append(sigmoid())\n",
        "mlp_s_4.append(Layer(700, 400))\n",
        "mlp_s_4.append(sigmoid())\n",
        "mlp_s_4.append(Layer(400, 200))\n",
        "mlp_s_4.append(sigmoid())\n",
        "mlp_s_4.append(Layer(200, 50))\n",
        "mlp_s_4.append(sigmoid())\n",
        "mlp_s_4.append(Layer(50, 10))\n",
        "\n",
        "mlp_t_1 = []\n",
        "mlp_t_1.append(Layer(trainX.shape[1], 100))\n",
        "mlp_t_1.append(tanh())\n",
        "mlp_t_1.append(Layer(100, 10))\n",
        "\n",
        "mlp_t_2 = []\n",
        "mlp_t_2.append(Layer(trainX.shape[1], 500))\n",
        "mlp_t_2.append(tanh())\n",
        "mlp_t_2.append(Layer(500, 300))\n",
        "mlp_t_2.append(tanh())\n",
        "mlp_t_2.append(Layer(300, 10))\n",
        "\n",
        "mlp_t_3 = []\n",
        "mlp_t_3.append(Layer(trainX.shape[1], 600))\n",
        "mlp_t_3.append(tanh())\n",
        "mlp_t_3.append(Layer(600, 300))\n",
        "mlp_t_3.append(tanh())\n",
        "mlp_t_3.append(Layer(300, 100))\n",
        "mlp_t_3.append(tanh())\n",
        "mlp_t_3.append(Layer(100, 10))\n",
        "\n",
        "mlp_t_4 = []\n",
        "mlp_t_4.append(Layer(trainX.shape[1], 700))\n",
        "mlp_t_4.append(tanh())\n",
        "mlp_t_4.append(Layer(700, 400))\n",
        "mlp_t_4.append(tanh())\n",
        "mlp_t_4.append(Layer(400, 200))\n",
        "mlp_t_4.append(tanh())\n",
        "mlp_t_4.append(Layer(200, 50))\n",
        "mlp_t_4.append(tanh())\n",
        "mlp_t_4.append(Layer(50, 10))\n",
        "\n"
      ],
      "execution_count": 0,
      "outputs": []
    },
    {
      "cell_type": "code",
      "metadata": {
        "colab_type": "code",
        "id": "darrjOaTCiGd",
        "colab": {}
      },
      "source": [
        "import time\n",
        "batchSize = 500\n",
        "epoch = 6\n",
        "def pred(mlp): \n",
        "  [accuracy, loss] = miniBatchSGD(trainX,trainlabels,mlp, epoch, bsize=batchSize)\n",
        "  y = predict(mlp, testX)\n",
        "  plt.plot(np.linspace(1, epoch, epoch), loss)\n",
        "  plt.show()\n",
        "  return getAccuracy(y, testlabels)"
      ],
      "execution_count": 0,
      "outputs": []
    },
    {
      "cell_type": "code",
      "metadata": {
        "id": "4oZWaRnga-7W",
        "colab_type": "code",
        "colab": {}
      },
      "source": [
        "def getAccuracy(predicted, actual):\n",
        "  TP = 0;\n",
        "  FN = 0;\n",
        "  for i in range(len(predicted)):\n",
        "    if(predicted[i] == actual[i]):\n",
        "      TP += 1\n",
        "    FN += 1\n",
        "  return TP/FN"
      ],
      "execution_count": 0,
      "outputs": []
    },
    {
      "cell_type": "code",
      "metadata": {
        "id": "OSSubnlk1iar",
        "colab_type": "code",
        "outputId": "3e65b3f2-b283-4950-e915-e502e54d5415",
        "colab": {
          "base_uri": "https://localhost:8080/",
          "height": 1000
        }
      },
      "source": [
        "sig_iter_depth = [pred(mlp_s_1), pred(mlp_s_2), pred(mlp_s_3), pred(mlp_s_4)]\n",
        "relu_iter_depth = [pred(mlp_r_1), pred(mlp_r_2), pred(mlp_r_3), pred(mlp_r_4)]\n",
        "tanh_iter_depth = [pred(mlp_t_1), pred(mlp_t_2), pred(mlp_t_3), pred(mlp_t_4)]"
      ],
      "execution_count": 0,
      "outputs": [
        {
          "output_type": "display_data",
          "data": {
            "image/png": "[encoded data removed]",
            "text/plain": [
              "<Figure size 432x288 with 1 Axes>"
            ]
          },
          "metadata": {
            "tags": [],
            "needs_background": "light"
          }
        },
        {
          "output_type": "display_data",
          "data": {
            "image/png": "[encoded data removed]",
            "text/plain": [
              "<Figure size 432x288 with 1 Axes>"
            ]
          },
          "metadata": {
            "tags": [],
            "needs_background": "light"
          }
        },
        {
          "output_type": "display_data",
          "data": {
            "image/png": "[encoded data removed]",
            "text/plain": [
              "<Figure size 432x288 with 1 Axes>"
            ]
          },
          "metadata": {
            "tags": [],
            "needs_background": "light"
          }
        },
        {
          "output_type": "display_data",
          "data": {
            "image/png": "[encoded data removed]",
            "text/plain": [
              "<Figure size 432x288 with 1 Axes>"
            ]
          },
          "metadata": {
            "tags": [],
            "needs_background": "light"
          }
        },
        {
          "output_type": "display_data",
          "data": {
            "image/png": "[encoded data removed]",
            "text/plain": [
              "<Figure size 432x288 with 1 Axes>"
            ]
          },
          "metadata": {
            "tags": [],
            "needs_background": "light"
          }
        },
        {
          "output_type": "display_data",
          "data": {
            "image/png": "[encoded data removed]",
            "text/plain": [
              "<Figure size 432x288 with 1 Axes>"
            ]
          },
          "metadata": {
            "tags": [],
            "needs_background": "light"
          }
        },
        {
          "output_type": "display_data",
          "data": {
            "image/png": "[encoded data removed]",
            "text/plain": [
              "<Figure size 432x288 with 1 Axes>"
            ]
          },
          "metadata": {
            "tags": [],
            "needs_background": "light"
          }
        },
        {
          "output_type": "display_data",
          "data": {
            "image/png": "[encoded data removed]",
            "text/plain": [
              "<Figure size 432x288 with 1 Axes>"
            ]
          },
          "metadata": {
            "tags": [],
            "needs_background": "light"
          }
        },
        {
          "output_type": "display_data",
          "data": {
            "image/png": "[encoded data removed]",
            "text/plain": [
              "<Figure size 432x288 with 1 Axes>"
            ]
          },
          "metadata": {
            "tags": [],
            "needs_background": "light"
          }
        },
        {
          "output_type": "display_data",
          "data": {
            "image/png": "[encoded data removed]",
            "text/plain": [
              "<Figure size 432x288 with 1 Axes>"
            ]
          },
          "metadata": {
            "tags": [],
            "needs_background": "light"
          }
        },
        {
          "output_type": "display_data",
          "data": {
            "image/png": "[encoded data removed]",
            "text/plain": [
              "<Figure size 432x288 with 1 Axes>"
            ]
          },
          "metadata": {
            "tags": [],
            "needs_background": "light"
          }
        },
        {
          "output_type": "display_data",
          "data": {
            "image/png": "[encoded data removed]",
            "text/plain": [
              "<Figure size 432x288 with 1 Axes>"
            ]
          },
          "metadata": {
            "tags": [],
            "needs_background": "light"
          }
        }
      ]
    },
    {
      "cell_type": "code",
      "metadata": {
        "id": "k3VF9dOw86bM",
        "colab_type": "code",
        "outputId": "45f84c20-cb8e-44be-f7f3-17f56c6e4072",
        "colab": {
          "base_uri": "https://localhost:8080/",
          "height": 338
        }
      },
      "source": [
        ""
      ],
      "execution_count": 0,
      "outputs": [
        {
          "output_type": "stream",
          "text": [
            "[0.4699397324709687, 0.5860428231562252, 0.6134236850596967, 0.6515276630883567]\n",
            "[0.6223231667748216, 0.8050541516245487, 0.5590894917368257, 0.34012329134280356]\n"
          ],
          "name": "stdout"
        },
        {
          "output_type": "display_data",
          "data": {
            "image/png": "[encoded data removed]",
            "text/plain": [
              "<Figure size 432x288 with 1 Axes>"
            ]
          },
          "metadata": {
            "tags": [],
            "needs_background": "light"
          }
        }
      ]
    },
    {
      "cell_type": "code",
      "metadata": {
        "colab_type": "code",
        "outputId": "b8366d97-7560-42d7-c1cb-6c51f6880c6a",
        "id": "sA9npI5xcizP",
        "colab": {
          "base_uri": "https://localhost:8080/",
          "height": 375
        }
      },
      "source": [
        "print(sig_iter_depth)\n",
        "print(relu_iter_depth)\n",
        "print(tanh_iter_depth)\n",
        "\n",
        "x = [1,2,3,4]\n",
        "sig_val = np.dot(sig_iter_depth,100)\n",
        "relu_val = np.dot(relu_iter_depth,100)\n",
        "tanh_val = np.dot(tanh_iter_depth,100)\n",
        "axes = plt.gca()\n",
        "axes.set_ylim([0,100])\n",
        "plt.plot(x, sig_val, 'ro-', label='Sigmoid Activation')\n",
        "plt.plot(x, relu_val, 'bo-', label='ReLU Activation')\n",
        "plt.plot(x, tanh_val, 'go-', label='Tanh Activation')\n",
        "#plt.xticks(x, x)\n",
        "plt.xlabel('Network Depth', fontsize=16)\n",
        "plt.ylabel('Accuracy (%)', fontsize=16)\n",
        "plt.title('Architecture Variation', fontsize=20)\n",
        "plt.legend()\n",
        "plt.show()\n",
        "plt.savefig('Depth_ActFun.pdf') "
      ],
      "execution_count": 0,
      "outputs": [
        {
          "output_type": "stream",
          "text": [
            "[0.3548, 0.3591, 0.3689, 0.3792]\n",
            "[0.3689, 0.4487, 0.3817, 0.2749]\n",
            "[0.3576, 0.4197, 0.4448, 0.4597]\n"
          ],
          "name": "stdout"
        },
        {
          "output_type": "display_data",
          "data": {
            "image/png": "[encoded data removed]",
            "text/plain": [
              "<Figure size 432x288 with 1 Axes>"
            ]
          },
          "metadata": {
            "tags": [],
            "needs_background": "light"
          }
        },
        {
          "output_type": "display_data",
          "data": {
            "text/plain": [
              "<Figure size 432x288 with 0 Axes>"
            ]
          },
          "metadata": {
            "tags": []
          }
        }
      ]
    },
    {
      "cell_type": "code",
      "metadata": {
        "id": "mJf_R4qWG6dQ",
        "colab_type": "code",
        "outputId": "80271fd9-a2e7-4f55-9f43-82673e5944b3",
        "colab": {
          "base_uri": "https://localhost:8080/",
          "height": 305
        }
      },
      "source": [
        "from sklearn.decomposition import PCA\n",
        "\n",
        "epoch = 20\n",
        "batchSize = 512\n",
        "accuracy = []\n",
        "\n",
        "for n_components in np.linspace(1, 3072, 50, dtype=int):\n",
        "  pca = PCA(n_components=n_components).fit(trainX)\n",
        "  trainX_pca = pca.transform(trainX)\n",
        "  testX_pca = pca.transform(testX)\n",
        "  mlp = []\n",
        "  mlp.append(Layer(trainX_pca.shape[1], 100))\n",
        "  mlp.append(ReLU())\n",
        "  mlp.append(Layer(100, 10))\n",
        "\n",
        "\n",
        "  for i in range(epoch):\n",
        "    [acc, loss] = miniBatchSGD(trainX_pca,trainlabels, mlp, 1, bsize=batchSize)\n",
        "  pred_labels = predict(mlp, testX_pca)\n",
        "  accuracy.append(getAccuracy(pred_labels, testlabels))\n",
        "\n",
        "plt.plot(np.linspace(100, 3072, 50, dtype=int), accuracy)\n",
        "plt.ylabel(\"Accuracy\", fontsize = 16)\n",
        "plt.xlabel(\"Dimensions\", fontsize = 16)\n",
        "plt.title(\"Dimensionality reduction\", fontsize = 20)\n",
        "plt.show()\n",
        "\n"
      ],
      "execution_count": 0,
      "outputs": [
        {
          "output_type": "display_data",
          "data": {
            "image/png": "[encoded data removed]",
            "text/plain": [
              "<Figure size 432x288 with 1 Axes>"
            ]
          },
          "metadata": {
            "tags": [],
            "needs_background": "light"
          }
        }
      ]
    },
    {
      "cell_type": "code",
      "metadata": {
        "id": "_vrmTSrexP4d",
        "colab_type": "code",
        "outputId": "9a9d1bdc-fd4a-49ca-d97d-12f3aff0476f",
        "colab": {
          "base_uri": "https://localhost:8080/",
          "height": 361
        }
      },
      "source": [
        "from sklearn.metrics import confusion_matrix\n",
        "\n",
        "batchSize = 512\n",
        "epoch = 40\n",
        "mlp = []\n",
        "mlp.append(Layer(trainX.shape[1], 100))\n",
        "mlp.append(ReLU())\n",
        "mlp.append(Layer(100, 10))\n",
        "\n",
        "miniBatchSGD(trainX,trainlabels, mlp, 40, bsize=batchSize)\n",
        "  \n",
        "labels = predict(mlp, testX)\n",
        "\n"
      ],
      "execution_count": 0,
      "outputs": [
        {
          "output_type": "error",
          "ename": "NameError",
          "evalue": "ignored",
          "traceback": [
            "\u001b[0;31m---------------------------------------------------------------------------\u001b[0m",
            "\u001b[0;31mNameError\u001b[0m                                 Traceback (most recent call last)",
            "\u001b[0;32m<ipython-input-16-f45883e05752>\u001b[0m in \u001b[0;36m<module>\u001b[0;34m()\u001b[0m\n\u001b[1;32m      8\u001b[0m \u001b[0mmlp\u001b[0m\u001b[0;34m.\u001b[0m\u001b[0mappend\u001b[0m\u001b[0;34m(\u001b[0m\u001b[0mLayer\u001b[0m\u001b[0;34m(\u001b[0m\u001b[0;36m100\u001b[0m\u001b[0;34m,\u001b[0m \u001b[0;36m10\u001b[0m\u001b[0;34m)\u001b[0m\u001b[0;34m)\u001b[0m\u001b[0;34m\u001b[0m\u001b[0;34m\u001b[0m\u001b[0m\n\u001b[1;32m      9\u001b[0m \u001b[0;34m\u001b[0m\u001b[0m\n\u001b[0;32m---> 10\u001b[0;31m \u001b[0mminiBatchSGD\u001b[0m\u001b[0;34m(\u001b[0m\u001b[0mtrainX\u001b[0m\u001b[0;34m,\u001b[0m\u001b[0mtrainlabels\u001b[0m\u001b[0;34m,\u001b[0m \u001b[0mmlp\u001b[0m\u001b[0;34m,\u001b[0m \u001b[0;36m40\u001b[0m\u001b[0;34m,\u001b[0m \u001b[0mbsize\u001b[0m\u001b[0;34m=\u001b[0m\u001b[0mbatchSize\u001b[0m\u001b[0;34m)\u001b[0m\u001b[0;34m\u001b[0m\u001b[0;34m\u001b[0m\u001b[0m\n\u001b[0m\u001b[1;32m     11\u001b[0m \u001b[0;34m\u001b[0m\u001b[0m\n\u001b[1;32m     12\u001b[0m \u001b[0mlabels\u001b[0m \u001b[0;34m=\u001b[0m \u001b[0mpredict\u001b[0m\u001b[0;34m(\u001b[0m\u001b[0mmlp\u001b[0m\u001b[0;34m,\u001b[0m \u001b[0mtestX\u001b[0m\u001b[0;34m)\u001b[0m\u001b[0;34m\u001b[0m\u001b[0;34m\u001b[0m\u001b[0m\n",
            "\u001b[0;32m<ipython-input-11-292e5eabaee7>\u001b[0m in \u001b[0;36mminiBatchSGD\u001b[0;34m(x, y, mlp, epoch_runs, lr, eps, bsize, beta)\u001b[0m\n\u001b[1;32m     21\u001b[0m       \u001b[0mloss\u001b[0m \u001b[0;34m=\u001b[0m \u001b[0;34m[\u001b[0m\u001b[0;34m]\u001b[0m\u001b[0;34m\u001b[0m\u001b[0;34m\u001b[0m\u001b[0m\n\u001b[1;32m     22\u001b[0m       \u001b[0my_train\u001b[0m \u001b[0;34m=\u001b[0m \u001b[0mpredict\u001b[0m\u001b[0;34m(\u001b[0m\u001b[0mmlp\u001b[0m\u001b[0;34m,\u001b[0m \u001b[0mx\u001b[0m\u001b[0;34m)\u001b[0m\u001b[0;34m\u001b[0m\u001b[0;34m\u001b[0m\u001b[0m\n\u001b[0;32m---> 23\u001b[0;31m       \u001b[0mtrain_acc\u001b[0m\u001b[0;34m.\u001b[0m\u001b[0mappend\u001b[0m\u001b[0;34m(\u001b[0m\u001b[0mgetAccuracy\u001b[0m\u001b[0;34m(\u001b[0m\u001b[0my_train\u001b[0m\u001b[0;34m,\u001b[0m \u001b[0my\u001b[0m\u001b[0;34m)\u001b[0m\u001b[0;34m)\u001b[0m\u001b[0;34m\u001b[0m\u001b[0;34m\u001b[0m\u001b[0m\n\u001b[0m\u001b[1;32m     24\u001b[0m \u001b[0;34m\u001b[0m\u001b[0m\n\u001b[1;32m     25\u001b[0m \u001b[0;34m\u001b[0m\u001b[0m\n",
            "\u001b[0;31mNameError\u001b[0m: name 'getAccuracy' is not defined"
          ]
        }
      ]
    },
    {
      "cell_type": "code",
      "metadata": {
        "id": "lTy_Ub-4xQ0t",
        "colab_type": "code",
        "colab": {}
      },
      "source": [
        "matrix = confusion_matrix(testlabels, labels)\n",
        "accuracy = np.diag(matrix)/np.sum(matrix, axis = 1)\n",
        "img_labels = ['plane', 'car', 'bird', 'cat', 'deer', 'dog', 'frog', 'horse', 'ship', 'truck']\n",
        "plt.bar(img_labels, accuracy)\n",
        "plt.title(\"Class accuracy MLP\", fontsize=16)\n",
        "plt.xlabel(\"Classes\", fontsize=16)\n",
        "plt.ylabel(\"Accuracy\", fontsize=16)\n",
        "plt.xticks(img_labels)\n",
        "\n"
      ],
      "execution_count": 0,
      "outputs": []
    },
    {
      "cell_type": "markdown",
      "metadata": {
        "id": "Qg67DzmsOH_a",
        "colab_type": "text"
      },
      "source": [
        "# Convolutional Neural Network\n",
        "\n",
        "---\n",
        "\n"
      ]
    },
    {
      "cell_type": "code",
      "metadata": {
        "id": "XnzdIT_wVuKm",
        "colab_type": "code",
        "colab": {}
      },
      "source": [
        "import torch\n",
        "import torchvision\n",
        "import torchvision.transforms as transforms"
      ],
      "execution_count": 0,
      "outputs": []
    },
    {
      "cell_type": "markdown",
      "metadata": {
        "id": "WtSuIVqzWt1r",
        "colab_type": "text"
      },
      "source": [
        "##1. Loading the dataset and output a dictionary (data matrix, label index)"
      ]
    },
    {
      "cell_type": "code",
      "metadata": {
        "id": "Kr2ZTTdyWrYf",
        "colab_type": "code",
        "outputId": "04955929-7a5d-4440-b064-001d74c66f1a",
        "colab": {
          "base_uri": "https://localhost:8080/",
          "height": 102,
          "referenced_widgets": [
            "d25d31dd136d4aec80d779f9a6cbb889",
            "2aaef383f0f049c1a11a275001b9d259",
            "bf11d0ffc79b4fbcb42337bda3e03beb",
            "9d6d6476f48145fc950ba2078cdf95bc",
            "59dc73b768e3400999dc7bbe6b7ef3ab",
            "03834f66376a40f890beef1d4ff0b494",
            "170e6d67d2f44d81a8d7a78a42c6f3dc",
            "4437a1e5c1784fd997cc30f677d73a0c"
          ]
        }
      },
      "source": [
        "BATCH_SIZE = 512\n",
        "n_training_acc = 0\n",
        "\n",
        "# normalization\n",
        "transform = transforms.Compose(\n",
        "    [transforms.ToTensor(),\n",
        "     transforms.Normalize((0.5, 0.5, 0.5), (0.5, 0.5, 0.5))])\n",
        "\n",
        "# load the raw training dataset\n",
        "trainset = torchvision.datasets.CIFAR10(root='./data', train=True,\n",
        "                                        download=True, transform=transform)\n",
        "\n",
        "# training accuracy\n",
        "#train_sub = torch.utils.data.Subset(trainset, range(n_training_acc))\n",
        "#train_sub_Loader = torch.utils.data.DataLoader(train_sub, batch_size=BATCH_SIZE)\n",
        "\n",
        "# create an iterable training dataset\n",
        "#trainset = torch.utils.data.Subset(trainset, range(n_training_acc, len(trainset)))\n",
        "trainloader = torch.utils.data.DataLoader(trainset, batch_size=BATCH_SIZE,\n",
        "                                          shuffle=True, num_workers=2)\n",
        "\n",
        "# load the raw test dataset\n",
        "testset = torchvision.datasets.CIFAR10(root='./data', train=False,\n",
        "                                       download=True, transform=transform)\n",
        "\n",
        "# create an iterable test dataset\n",
        "testloader = torch.utils.data.DataLoader(testset, batch_size=BATCH_SIZE,\n",
        "                                         shuffle=False, num_workers=2)\n",
        "\n",
        "classes = ('plane', 'car', 'bird', 'cat',\n",
        "           'deer', 'dog', 'frog', 'horse', 'ship', 'truck')"
      ],
      "execution_count": 0,
      "outputs": [
        {
          "output_type": "stream",
          "text": [
            "Downloading https://www.cs.toronto.edu/~kriz/cifar-10-python.tar.gz to ./data/cifar-10-python.tar.gz\n"
          ],
          "name": "stdout"
        },
        {
          "output_type": "display_data",
          "data": {
            "application/vnd.jupyter.widget-view+json": {
              "model_id": "d25d31dd136d4aec80d779f9a6cbb889",
              "version_minor": 0,
              "version_major": 2
            },
            "text/plain": [
              "HBox(children=(IntProgress(value=1, bar_style='info', max=1), HTML(value='')))"
            ]
          },
          "metadata": {
            "tags": []
          }
        },
        {
          "output_type": "stream",
          "text": [
            "Extracting ./data/cifar-10-python.tar.gz to ./data\n",
            "Files already downloaded and verified\n"
          ],
          "name": "stdout"
        }
      ]
    },
    {
      "cell_type": "markdown",
      "metadata": {
        "id": "aoBF9Oe6Y_Dz",
        "colab_type": "text"
      },
      "source": [
        "##2. Creating the CNN"
      ]
    },
    {
      "cell_type": "code",
      "metadata": {
        "colab_type": "code",
        "id": "AUGgkM83eTkA",
        "colab": {}
      },
      "source": [
        "import torch.nn as nn   # torch.nn.Module corresponds to the base class for all neural networks\n",
        "import torch.nn.functional as F   # contains convolution functions\n",
        "\n",
        "p = 0.5\n",
        "\n",
        "class Net(nn.Module):\n",
        "    def __init__(self):\n",
        "        super(Net, self, ).__init__()\n",
        "        self.conv1 = nn.Conv2d(3, 6, 5)   # 1st filter layer: torch.nn.Conv2d(in_channels, out_channels, kernel_size). 5x5x3\n",
        "        self.pool = nn.MaxPool2d(2, 2)    # pooling layer: nn.MaxPool2d(kernel_size, stride)\n",
        "        self.conv2 = nn.Conv2d(6, 16, 5)    # 5x5x6\n",
        "        self.fc1 = nn.Linear(16 * 5 * 5, 200)   # linear transformation: torch.nn.Linear(in_features, out_features)\n",
        "        self.bn1 = nn.BatchNorm1d(num_features=200)\n",
        "        self.fc2 = nn.Linear(200, 100)\n",
        "        self.bn2 = nn.BatchNorm1d(num_features=100)\n",
        "        self.fc3 = nn.Linear(100, 10)\n",
        "        #self.bn3 = nn.BatchNorm1d(num_features=60)\n",
        "        #self.fc4 = nn.Linear(60, 10)\n",
        "        #self.dropout = nn.Dropout(p)\n",
        "\n",
        "\n",
        "    def forward(self, x):\n",
        "        x = self.pool(F.relu(self.conv1(x)))\n",
        "        x = self.pool(F.relu(self.conv2(x)))\n",
        "        x = x.view(-1, 16 * 5 * 5)\n",
        "        x = F.relu(self.bn1(self.fc1(x)))\n",
        "        x = F.relu(self.bn2(self.fc2(x)))\n",
        "        #x = F.relu(self.bn3(self.fc3(x)))\n",
        "        x = self.fc3(x)\n",
        "        #x = self.fc4(x)\n",
        "        #x = self.dropout(x) # not effective, lowers overall accuracy due to lack of data\n",
        "        #x = F.log_softmax(x, dim=-1) no need to do this since CrossEntropyLoss already includes the softmax function\n",
        "        return x\n",
        "\n",
        "\n",
        "net = Net()"
      ],
      "execution_count": 0,
      "outputs": []
    },
    {
      "cell_type": "markdown",
      "metadata": {
        "id": "A4mC2dBHH0bz",
        "colab_type": "text"
      },
      "source": [
        "\n",
        "## GPU conversion"
      ]
    },
    {
      "cell_type": "code",
      "metadata": {
        "id": "-mUDlDMKH1QW",
        "colab_type": "code",
        "outputId": "e8a4701e-9019-461e-8156-714394fc0c12",
        "colab": {
          "base_uri": "https://localhost:8080/",
          "height": 210
        }
      },
      "source": [
        "device = torch.device(\"cuda:0\")\n",
        "\n",
        "# Assuming that we are on a CUDA machine, this should print a CUDA device:\n",
        "\n",
        "print(device)\n",
        "\n",
        "net.to(device)\n",
        "\n"
      ],
      "execution_count": 0,
      "outputs": [
        {
          "output_type": "stream",
          "text": [
            "cuda:0\n"
          ],
          "name": "stdout"
        },
        {
          "output_type": "execute_result",
          "data": {
            "text/plain": [
              "Net(\n",
              "  (conv1): Conv2d(3, 6, kernel_size=(5, 5), stride=(1, 1))\n",
              "  (pool): MaxPool2d(kernel_size=2, stride=2, padding=0, dilation=1, ceil_mode=False)\n",
              "  (conv2): Conv2d(6, 16, kernel_size=(5, 5), stride=(1, 1))\n",
              "  (fc1): Linear(in_features=400, out_features=200, bias=True)\n",
              "  (bn1): BatchNorm1d(200, eps=1e-05, momentum=0.1, affine=True, track_running_stats=True)\n",
              "  (fc2): Linear(in_features=200, out_features=100, bias=True)\n",
              "  (bn2): BatchNorm1d(100, eps=1e-05, momentum=0.1, affine=True, track_running_stats=True)\n",
              "  (fc3): Linear(in_features=100, out_features=10, bias=True)\n",
              ")"
            ]
          },
          "metadata": {
            "tags": []
          },
          "execution_count": 7
        }
      ]
    },
    {
      "cell_type": "markdown",
      "metadata": {
        "id": "CMjuTSXtdF6X",
        "colab_type": "text"
      },
      "source": [
        "## 3. Loss function and optimizer"
      ]
    },
    {
      "cell_type": "code",
      "metadata": {
        "id": "dR0wQolJdJTa",
        "colab_type": "code",
        "colab": {}
      },
      "source": [
        "import torch.optim as optim\n",
        "\n",
        "criterion = nn.CrossEntropyLoss()\n",
        "optimizer = optim.Adam(net.parameters(), lr=0.0001)   ## torch.optim.[name](params, learning rate, momentum)"
      ],
      "execution_count": 0,
      "outputs": []
    },
    {
      "cell_type": "markdown",
      "metadata": {
        "id": "T-QLa91Lb9uE",
        "colab_type": "text"
      },
      "source": [
        "## 4. Training Accuracy"
      ]
    },
    {
      "cell_type": "code",
      "metadata": {
        "id": "evngUgtScAa8",
        "colab_type": "code",
        "colab": {}
      },
      "source": [
        "accuracy_per_trainEpoch = list()\n",
        "\n",
        "def get_train_acc():\n",
        "  correct = 0\n",
        "  total = 0\n",
        "\n",
        "  with torch.no_grad():\n",
        "      for data in trainloader:\n",
        "          images, labels = data[0].to(device), data[1].to(device)\n",
        "          outputs = net(images)\n",
        "          _, predicted = torch.max(outputs.data, 1)   # (values, indices), return the max of each row (image)?\n",
        "          total += labels.size(0)\n",
        "          correct += (predicted == labels).sum().item()\n",
        "\n",
        "  acc = 100 * correct / total\n",
        "  accuracy_per_trainEpoch.append(acc)\n",
        "  print('Accuracy of the network on the training images: %d %%' % (acc))\n",
        "\n",
        "# best is 63%"
      ],
      "execution_count": 0,
      "outputs": []
    },
    {
      "cell_type": "markdown",
      "metadata": {
        "id": "RuSJnouWlZjH",
        "colab_type": "text"
      },
      "source": [
        "## 5. Testing Accuracy"
      ]
    },
    {
      "cell_type": "code",
      "metadata": {
        "id": "XXucUv97lVjr",
        "colab_type": "code",
        "colab": {}
      },
      "source": [
        "accuracy_per_testEpoch = list()\n",
        "\n",
        "def get_test_acc():\n",
        "  correct = 0\n",
        "  total = 0\n",
        "\n",
        "  with torch.no_grad():\n",
        "      for data in testloader:\n",
        "          images, labels = data[0].to(device), data[1].to(device)\n",
        "          outputs = net(images)\n",
        "          _, predicted = torch.max(outputs.data, 1)   # (values, indices), return the max of each row (image)?\n",
        "          total += labels.size(0)\n",
        "          correct += (predicted == labels).sum().item()\n",
        "\n",
        "  acc = 100 * correct / total\n",
        "  accuracy_per_testEpoch.append(acc)\n",
        "  print('Accuracy of the network on the test set: %d %%' % (acc))\n",
        "\n",
        "  # Accuracy of the network on the test set: 53 %"
      ],
      "execution_count": 0,
      "outputs": []
    },
    {
      "cell_type": "markdown",
      "metadata": {
        "id": "flF76WY2doG2",
        "colab_type": "text"
      },
      "source": [
        "## 6. Training"
      ]
    },
    {
      "cell_type": "code",
      "metadata": {
        "id": "GdGg3Savdpxf",
        "colab_type": "code",
        "outputId": "b63c13af-4449-48b8-d493-ea8a32db4606",
        "colab": {
          "base_uri": "https://localhost:8080/",
          "height": 1000
        }
      },
      "source": [
        "import time\n",
        "\n",
        "loss_evolution = list()\n",
        "training_time = list()\n",
        "EPOCH = 100\n",
        "\n",
        "start_time = time.clock()\n",
        "\n",
        "for epoch in range(EPOCH):  # loop over the dataset multiple times\n",
        "\n",
        "    running_loss = 0.0\n",
        "    for i, data in enumerate(trainloader, 0):\n",
        "        # get the inputs; data is a list of [inputs, labels]\n",
        "        #inputs, labels = data\n",
        "        inputs, labels = data[0].to(device), data[1].to(device)\n",
        "\n",
        "        # zero the parameter gradients\n",
        "        optimizer.zero_grad()\n",
        "\n",
        "        # forward + backward + optimize\n",
        "        outputs = net(inputs)   # predictions\n",
        "        loss = criterion(outputs, labels) # what does loss return?\n",
        "        loss.backward()   # backward propagation, calculates the gradients\n",
        "        optimizer.step()    # update the parameters based on the current gradients\n",
        "\n",
        "        # print statistics\n",
        "        running_loss += loss.item()\n",
        "\n",
        "    get_train_acc() # compute the training accuracy for the ith epoch\n",
        "    get_test_acc() # compute the testing accuracy for the ith epoch\n",
        "\n",
        "    #print time\n",
        "    running_time = round(time.clock() - start_time, 2)\n",
        "    print(\"--- %s seconds ---\" % (running_time))\n",
        "    training_time.append(running_time)\n",
        "\n",
        "    # print every epcoh\n",
        "    avg_loss = running_loss / len(trainloader)\n",
        "    print('[Epoch: %d] loss: %.3f' % (epoch + 1, avg_loss))\n",
        "    loss_evolution.append(avg_loss)\n",
        "\n",
        "print('Finished Training')"
      ],
      "execution_count": 0,
      "outputs": [
        {
          "output_type": "stream",
          "text": [
            "Accuracy of the network on the training images: 38 %\n",
            "Accuracy of the network on the test set: 38 %\n",
            "--- 1.83 seconds ---\n",
            "[Epoch: 1] loss: 2.033\n",
            "Accuracy of the network on the training images: 44 %\n",
            "Accuracy of the network on the test set: 44 %\n",
            "--- 3.64 seconds ---\n",
            "[Epoch: 2] loss: 1.711\n",
            "Accuracy of the network on the training images: 48 %\n",
            "Accuracy of the network on the test set: 47 %\n",
            "--- 5.44 seconds ---\n",
            "[Epoch: 3] loss: 1.560\n",
            "Accuracy of the network on the training images: 51 %\n",
            "Accuracy of the network on the test set: 49 %\n",
            "--- 7.22 seconds ---\n",
            "[Epoch: 4] loss: 1.463\n",
            "Accuracy of the network on the training images: 53 %\n",
            "Accuracy of the network on the test set: 51 %\n",
            "--- 9.01 seconds ---\n",
            "[Epoch: 5] loss: 1.390\n",
            "Accuracy of the network on the training images: 55 %\n",
            "Accuracy of the network on the test set: 53 %\n",
            "--- 10.8 seconds ---\n",
            "[Epoch: 6] loss: 1.332\n",
            "Accuracy of the network on the training images: 56 %\n",
            "Accuracy of the network on the test set: 53 %\n",
            "--- 12.61 seconds ---\n",
            "[Epoch: 7] loss: 1.282\n",
            "Accuracy of the network on the training images: 58 %\n",
            "Accuracy of the network on the test set: 55 %\n",
            "--- 14.39 seconds ---\n",
            "[Epoch: 8] loss: 1.238\n",
            "Accuracy of the network on the training images: 59 %\n",
            "Accuracy of the network on the test set: 56 %\n",
            "--- 16.15 seconds ---\n",
            "[Epoch: 9] loss: 1.199\n",
            "Accuracy of the network on the training images: 60 %\n",
            "Accuracy of the network on the test set: 56 %\n",
            "--- 17.9 seconds ---\n",
            "[Epoch: 10] loss: 1.164\n",
            "Accuracy of the network on the training images: 62 %\n",
            "Accuracy of the network on the test set: 57 %\n",
            "--- 19.66 seconds ---\n",
            "[Epoch: 11] loss: 1.133\n",
            "Accuracy of the network on the training images: 62 %\n",
            "Accuracy of the network on the test set: 57 %\n",
            "--- 21.46 seconds ---\n",
            "[Epoch: 12] loss: 1.104\n",
            "Accuracy of the network on the training images: 63 %\n",
            "Accuracy of the network on the test set: 58 %\n",
            "--- 23.19 seconds ---\n",
            "[Epoch: 13] loss: 1.077\n",
            "Accuracy of the network on the training images: 64 %\n",
            "Accuracy of the network on the test set: 58 %\n",
            "--- 24.93 seconds ---\n",
            "[Epoch: 14] loss: 1.052\n",
            "Accuracy of the network on the training images: 65 %\n",
            "Accuracy of the network on the test set: 58 %\n",
            "--- 26.67 seconds ---\n",
            "[Epoch: 15] loss: 1.028\n",
            "Accuracy of the network on the training images: 66 %\n",
            "Accuracy of the network on the test set: 59 %\n",
            "--- 28.41 seconds ---\n",
            "[Epoch: 16] loss: 1.006\n",
            "Accuracy of the network on the training images: 67 %\n",
            "Accuracy of the network on the test set: 59 %\n",
            "--- 30.15 seconds ---\n",
            "[Epoch: 17] loss: 0.985\n",
            "Accuracy of the network on the training images: 68 %\n",
            "Accuracy of the network on the test set: 60 %\n",
            "--- 31.91 seconds ---\n",
            "[Epoch: 18] loss: 0.963\n",
            "Accuracy of the network on the training images: 68 %\n",
            "Accuracy of the network on the test set: 60 %\n",
            "--- 33.68 seconds ---\n",
            "[Epoch: 19] loss: 0.943\n",
            "Accuracy of the network on the training images: 69 %\n",
            "Accuracy of the network on the test set: 60 %\n",
            "--- 35.44 seconds ---\n",
            "[Epoch: 20] loss: 0.925\n",
            "Accuracy of the network on the training images: 70 %\n",
            "Accuracy of the network on the test set: 60 %\n",
            "--- 37.19 seconds ---\n",
            "[Epoch: 21] loss: 0.906\n",
            "Accuracy of the network on the training images: 70 %\n",
            "Accuracy of the network on the test set: 60 %\n",
            "--- 38.93 seconds ---\n",
            "[Epoch: 22] loss: 0.888\n",
            "Accuracy of the network on the training images: 71 %\n",
            "Accuracy of the network on the test set: 60 %\n",
            "--- 40.71 seconds ---\n",
            "[Epoch: 23] loss: 0.874\n",
            "Accuracy of the network on the training images: 71 %\n",
            "Accuracy of the network on the test set: 60 %\n",
            "--- 42.47 seconds ---\n",
            "[Epoch: 24] loss: 0.857\n",
            "Accuracy of the network on the training images: 72 %\n",
            "Accuracy of the network on the test set: 60 %\n",
            "--- 44.25 seconds ---\n",
            "[Epoch: 25] loss: 0.842\n",
            "Accuracy of the network on the training images: 73 %\n",
            "Accuracy of the network on the test set: 60 %\n",
            "--- 45.99 seconds ---\n",
            "[Epoch: 26] loss: 0.824\n",
            "Accuracy of the network on the training images: 73 %\n",
            "Accuracy of the network on the test set: 61 %\n",
            "--- 47.73 seconds ---\n",
            "[Epoch: 27] loss: 0.809\n",
            "Accuracy of the network on the training images: 74 %\n",
            "Accuracy of the network on the test set: 61 %\n",
            "--- 49.49 seconds ---\n",
            "[Epoch: 28] loss: 0.796\n",
            "Accuracy of the network on the training images: 74 %\n",
            "Accuracy of the network on the test set: 61 %\n",
            "--- 51.23 seconds ---\n",
            "[Epoch: 29] loss: 0.780\n",
            "Accuracy of the network on the training images: 75 %\n",
            "Accuracy of the network on the test set: 61 %\n",
            "--- 52.97 seconds ---\n",
            "[Epoch: 30] loss: 0.767\n",
            "Accuracy of the network on the training images: 75 %\n",
            "Accuracy of the network on the test set: 61 %\n",
            "--- 54.71 seconds ---\n",
            "[Epoch: 31] loss: 0.753\n",
            "Accuracy of the network on the training images: 76 %\n",
            "Accuracy of the network on the test set: 61 %\n",
            "--- 56.48 seconds ---\n",
            "[Epoch: 32] loss: 0.741\n",
            "Accuracy of the network on the training images: 76 %\n",
            "Accuracy of the network on the test set: 61 %\n",
            "--- 58.26 seconds ---\n",
            "[Epoch: 33] loss: 0.727\n",
            "Accuracy of the network on the training images: 77 %\n",
            "Accuracy of the network on the test set: 61 %\n",
            "--- 60.0 seconds ---\n",
            "[Epoch: 34] loss: 0.715\n",
            "Accuracy of the network on the training images: 77 %\n",
            "Accuracy of the network on the test set: 61 %\n",
            "--- 61.73 seconds ---\n",
            "[Epoch: 35] loss: 0.703\n",
            "Accuracy of the network on the training images: 78 %\n",
            "Accuracy of the network on the test set: 61 %\n",
            "--- 63.46 seconds ---\n",
            "[Epoch: 36] loss: 0.690\n",
            "Accuracy of the network on the training images: 78 %\n",
            "Accuracy of the network on the test set: 61 %\n",
            "--- 65.22 seconds ---\n",
            "[Epoch: 37] loss: 0.678\n",
            "Accuracy of the network on the training images: 79 %\n",
            "Accuracy of the network on the test set: 61 %\n",
            "--- 66.96 seconds ---\n",
            "[Epoch: 38] loss: 0.666\n",
            "Accuracy of the network on the training images: 79 %\n",
            "Accuracy of the network on the test set: 61 %\n",
            "--- 68.73 seconds ---\n",
            "[Epoch: 39] loss: 0.655\n",
            "Accuracy of the network on the training images: 79 %\n",
            "Accuracy of the network on the test set: 61 %\n",
            "--- 70.47 seconds ---\n",
            "[Epoch: 40] loss: 0.642\n",
            "Accuracy of the network on the training images: 80 %\n",
            "Accuracy of the network on the test set: 60 %\n",
            "--- 72.26 seconds ---\n",
            "[Epoch: 41] loss: 0.633\n",
            "Accuracy of the network on the training images: 80 %\n",
            "Accuracy of the network on the test set: 61 %\n",
            "--- 74.03 seconds ---\n",
            "[Epoch: 42] loss: 0.621\n",
            "Accuracy of the network on the training images: 81 %\n",
            "Accuracy of the network on the test set: 60 %\n",
            "--- 75.77 seconds ---\n",
            "[Epoch: 43] loss: 0.611\n",
            "Accuracy of the network on the training images: 81 %\n",
            "Accuracy of the network on the test set: 60 %\n",
            "--- 77.54 seconds ---\n",
            "[Epoch: 44] loss: 0.599\n",
            "Accuracy of the network on the training images: 82 %\n",
            "Accuracy of the network on the test set: 61 %\n",
            "--- 79.28 seconds ---\n",
            "[Epoch: 45] loss: 0.589\n",
            "Accuracy of the network on the training images: 82 %\n",
            "Accuracy of the network on the test set: 60 %\n",
            "--- 81.02 seconds ---\n",
            "[Epoch: 46] loss: 0.578\n",
            "Accuracy of the network on the training images: 82 %\n",
            "Accuracy of the network on the test set: 60 %\n",
            "--- 82.76 seconds ---\n",
            "[Epoch: 47] loss: 0.568\n",
            "Accuracy of the network on the training images: 83 %\n",
            "Accuracy of the network on the test set: 60 %\n",
            "--- 84.51 seconds ---\n",
            "[Epoch: 48] loss: 0.557\n",
            "Accuracy of the network on the training images: 83 %\n",
            "Accuracy of the network on the test set: 60 %\n",
            "--- 86.26 seconds ---\n",
            "[Epoch: 49] loss: 0.547\n",
            "Accuracy of the network on the training images: 83 %\n",
            "Accuracy of the network on the test set: 60 %\n",
            "--- 88.01 seconds ---\n",
            "[Epoch: 50] loss: 0.540\n",
            "Accuracy of the network on the training images: 84 %\n",
            "Accuracy of the network on the test set: 60 %\n",
            "--- 89.77 seconds ---\n",
            "[Epoch: 51] loss: 0.530\n",
            "Accuracy of the network on the training images: 84 %\n",
            "Accuracy of the network on the test set: 60 %\n",
            "--- 91.53 seconds ---\n",
            "[Epoch: 52] loss: 0.520\n",
            "Accuracy of the network on the training images: 85 %\n",
            "Accuracy of the network on the test set: 60 %\n",
            "--- 93.3 seconds ---\n",
            "[Epoch: 53] loss: 0.509\n",
            "Accuracy of the network on the training images: 85 %\n",
            "Accuracy of the network on the test set: 60 %\n",
            "--- 95.06 seconds ---\n",
            "[Epoch: 54] loss: 0.502\n",
            "Accuracy of the network on the training images: 85 %\n",
            "Accuracy of the network on the test set: 60 %\n",
            "--- 96.81 seconds ---\n",
            "[Epoch: 55] loss: 0.493\n",
            "Accuracy of the network on the training images: 85 %\n",
            "Accuracy of the network on the test set: 60 %\n",
            "--- 98.55 seconds ---\n",
            "[Epoch: 56] loss: 0.485\n",
            "Accuracy of the network on the training images: 86 %\n",
            "Accuracy of the network on the test set: 60 %\n",
            "--- 100.29 seconds ---\n",
            "[Epoch: 57] loss: 0.474\n",
            "Accuracy of the network on the training images: 86 %\n",
            "Accuracy of the network on the test set: 60 %\n",
            "--- 102.02 seconds ---\n",
            "[Epoch: 58] loss: 0.467\n",
            "Accuracy of the network on the training images: 86 %\n",
            "Accuracy of the network on the test set: 60 %\n",
            "--- 103.76 seconds ---\n",
            "[Epoch: 59] loss: 0.457\n",
            "Accuracy of the network on the training images: 87 %\n",
            "Accuracy of the network on the test set: 60 %\n",
            "--- 105.51 seconds ---\n",
            "[Epoch: 60] loss: 0.450\n",
            "Accuracy of the network on the training images: 87 %\n",
            "Accuracy of the network on the test set: 60 %\n",
            "--- 107.24 seconds ---\n",
            "[Epoch: 61] loss: 0.441\n",
            "Accuracy of the network on the training images: 88 %\n",
            "Accuracy of the network on the test set: 59 %\n",
            "--- 108.98 seconds ---\n",
            "[Epoch: 62] loss: 0.433\n",
            "Accuracy of the network on the training images: 88 %\n",
            "Accuracy of the network on the test set: 59 %\n",
            "--- 110.71 seconds ---\n",
            "[Epoch: 63] loss: 0.424\n",
            "Accuracy of the network on the training images: 88 %\n",
            "Accuracy of the network on the test set: 59 %\n",
            "--- 112.45 seconds ---\n",
            "[Epoch: 64] loss: 0.417\n",
            "Accuracy of the network on the training images: 88 %\n",
            "Accuracy of the network on the test set: 59 %\n",
            "--- 114.21 seconds ---\n",
            "[Epoch: 65] loss: 0.410\n",
            "Accuracy of the network on the training images: 89 %\n",
            "Accuracy of the network on the test set: 59 %\n",
            "--- 115.95 seconds ---\n",
            "[Epoch: 66] loss: 0.403\n",
            "Accuracy of the network on the training images: 89 %\n",
            "Accuracy of the network on the test set: 59 %\n",
            "--- 117.69 seconds ---\n",
            "[Epoch: 67] loss: 0.393\n",
            "Accuracy of the network on the training images: 89 %\n",
            "Accuracy of the network on the test set: 59 %\n",
            "--- 119.42 seconds ---\n",
            "[Epoch: 68] loss: 0.386\n",
            "Accuracy of the network on the training images: 89 %\n",
            "Accuracy of the network on the test set: 60 %\n",
            "--- 121.15 seconds ---\n",
            "[Epoch: 69] loss: 0.381\n",
            "Accuracy of the network on the training images: 90 %\n",
            "Accuracy of the network on the test set: 59 %\n",
            "--- 122.9 seconds ---\n",
            "[Epoch: 70] loss: 0.371\n",
            "Accuracy of the network on the training images: 90 %\n",
            "Accuracy of the network on the test set: 59 %\n",
            "--- 124.64 seconds ---\n",
            "[Epoch: 71] loss: 0.365\n",
            "Accuracy of the network on the training images: 90 %\n",
            "Accuracy of the network on the test set: 59 %\n",
            "--- 126.38 seconds ---\n",
            "[Epoch: 72] loss: 0.357\n",
            "Accuracy of the network on the training images: 90 %\n",
            "Accuracy of the network on the test set: 59 %\n",
            "--- 128.13 seconds ---\n",
            "[Epoch: 73] loss: 0.350\n",
            "Accuracy of the network on the training images: 91 %\n",
            "Accuracy of the network on the test set: 59 %\n",
            "--- 129.86 seconds ---\n",
            "[Epoch: 74] loss: 0.344\n",
            "Accuracy of the network on the training images: 91 %\n",
            "Accuracy of the network on the test set: 59 %\n",
            "--- 131.6 seconds ---\n",
            "[Epoch: 75] loss: 0.339\n",
            "Accuracy of the network on the training images: 91 %\n",
            "Accuracy of the network on the test set: 59 %\n",
            "--- 133.33 seconds ---\n",
            "[Epoch: 76] loss: 0.330\n",
            "Accuracy of the network on the training images: 91 %\n",
            "Accuracy of the network on the test set: 59 %\n",
            "--- 135.07 seconds ---\n",
            "[Epoch: 77] loss: 0.323\n",
            "Accuracy of the network on the training images: 92 %\n",
            "Accuracy of the network on the test set: 59 %\n",
            "--- 136.78 seconds ---\n",
            "[Epoch: 78] loss: 0.317\n",
            "Accuracy of the network on the training images: 92 %\n",
            "Accuracy of the network on the test set: 59 %\n",
            "--- 138.51 seconds ---\n",
            "[Epoch: 79] loss: 0.311\n",
            "Accuracy of the network on the training images: 92 %\n",
            "Accuracy of the network on the test set: 58 %\n",
            "--- 140.23 seconds ---\n",
            "[Epoch: 80] loss: 0.304\n",
            "Accuracy of the network on the training images: 93 %\n",
            "Accuracy of the network on the test set: 59 %\n",
            "--- 141.97 seconds ---\n",
            "[Epoch: 81] loss: 0.298\n",
            "Accuracy of the network on the training images: 92 %\n",
            "Accuracy of the network on the test set: 58 %\n",
            "--- 143.69 seconds ---\n",
            "[Epoch: 82] loss: 0.294\n",
            "Accuracy of the network on the training images: 93 %\n",
            "Accuracy of the network on the test set: 59 %\n",
            "--- 145.43 seconds ---\n",
            "[Epoch: 83] loss: 0.287\n",
            "Accuracy of the network on the training images: 93 %\n",
            "Accuracy of the network on the test set: 58 %\n",
            "--- 147.17 seconds ---\n",
            "[Epoch: 84] loss: 0.281\n",
            "Accuracy of the network on the training images: 93 %\n",
            "Accuracy of the network on the test set: 58 %\n",
            "--- 148.91 seconds ---\n",
            "[Epoch: 85] loss: 0.275\n",
            "Accuracy of the network on the training images: 93 %\n",
            "Accuracy of the network on the test set: 58 %\n",
            "--- 150.64 seconds ---\n",
            "[Epoch: 86] loss: 0.269\n",
            "Accuracy of the network on the training images: 94 %\n",
            "Accuracy of the network on the test set: 58 %\n",
            "--- 152.37 seconds ---\n",
            "[Epoch: 87] loss: 0.264\n",
            "Accuracy of the network on the training images: 94 %\n",
            "Accuracy of the network on the test set: 58 %\n",
            "--- 154.09 seconds ---\n",
            "[Epoch: 88] loss: 0.259\n",
            "Accuracy of the network on the training images: 94 %\n",
            "Accuracy of the network on the test set: 59 %\n",
            "--- 155.82 seconds ---\n",
            "[Epoch: 89] loss: 0.252\n",
            "Accuracy of the network on the training images: 94 %\n",
            "Accuracy of the network on the test set: 58 %\n",
            "--- 157.55 seconds ---\n",
            "[Epoch: 90] loss: 0.247\n",
            "Accuracy of the network on the training images: 94 %\n",
            "Accuracy of the network on the test set: 58 %\n",
            "--- 159.27 seconds ---\n",
            "[Epoch: 91] loss: 0.242\n",
            "Accuracy of the network on the training images: 94 %\n",
            "Accuracy of the network on the test set: 58 %\n",
            "--- 161.0 seconds ---\n",
            "[Epoch: 92] loss: 0.238\n",
            "Accuracy of the network on the training images: 94 %\n",
            "Accuracy of the network on the test set: 58 %\n",
            "--- 162.71 seconds ---\n",
            "[Epoch: 93] loss: 0.233\n",
            "Accuracy of the network on the training images: 95 %\n",
            "Accuracy of the network on the test set: 58 %\n",
            "--- 164.48 seconds ---\n",
            "[Epoch: 94] loss: 0.228\n",
            "Accuracy of the network on the training images: 95 %\n",
            "Accuracy of the network on the test set: 58 %\n",
            "--- 166.23 seconds ---\n",
            "[Epoch: 95] loss: 0.223\n",
            "Accuracy of the network on the training images: 95 %\n",
            "Accuracy of the network on the test set: 58 %\n",
            "--- 167.97 seconds ---\n",
            "[Epoch: 96] loss: 0.218\n",
            "Accuracy of the network on the training images: 95 %\n",
            "Accuracy of the network on the test set: 58 %\n",
            "--- 169.71 seconds ---\n",
            "[Epoch: 97] loss: 0.212\n",
            "Accuracy of the network on the training images: 95 %\n",
            "Accuracy of the network on the test set: 58 %\n",
            "--- 171.45 seconds ---\n",
            "[Epoch: 98] loss: 0.207\n",
            "Accuracy of the network on the training images: 95 %\n",
            "Accuracy of the network on the test set: 58 %\n",
            "--- 173.18 seconds ---\n",
            "[Epoch: 99] loss: 0.204\n",
            "Accuracy of the network on the training images: 96 %\n",
            "Accuracy of the network on the test set: 58 %\n",
            "--- 174.9 seconds ---\n",
            "[Epoch: 100] loss: 0.199\n",
            "Finished Training\n"
          ],
          "name": "stdout"
        }
      ]
    },
    {
      "cell_type": "markdown",
      "metadata": {
        "id": "KcqcE20qk1hr",
        "colab_type": "text"
      },
      "source": [
        "## Performance relative to each class"
      ]
    },
    {
      "cell_type": "code",
      "metadata": {
        "id": "fNwLPLh9k18N",
        "colab_type": "code",
        "outputId": "0beb87f8-9b77-4259-a945-1e3f4a99afc8",
        "colab": {
          "base_uri": "https://localhost:8080/",
          "height": 193
        }
      },
      "source": [
        "class_correct = list(0. for i in range(10))\n",
        "class_total = list(0. for i in range(10))\n",
        "img_acc_list = list()\n",
        "\n",
        "with torch.no_grad():\n",
        "    for data in testloader:\n",
        "        images, labels = data[0].to(device), data[1].to(device)\n",
        "        outputs = net(images)\n",
        "        _, predicted = torch.max(outputs, 1)\n",
        "        c = (predicted == labels).squeeze()   # remove single-dimensional entries from the shape of an array (predictions)\n",
        "        for i in range(4):    # four because of three channels?\n",
        "            label = labels[i]\n",
        "            class_correct[label] += c[i].item()   # 0 if prediction is wrong, otherwise 1\n",
        "            class_total[label] += 1\n",
        "\n",
        "\n",
        "for i in range(10):\n",
        "    val = class_correct[i] / class_total[i]\n",
        "    img_acc_list.append(val*100)\n",
        "    print('Accuracy of %5s : %2d %%' % (\n",
        "        classes[i], 100 * val))"
      ],
      "execution_count": 0,
      "outputs": [
        {
          "output_type": "stream",
          "text": [
            "Accuracy of plane : 71 %\n",
            "Accuracy of   car : 100 %\n",
            "Accuracy of  bird : 71 %\n",
            "Accuracy of   cat : 25 %\n",
            "Accuracy of  deer : 57 %\n",
            "Accuracy of   dog : 33 %\n",
            "Accuracy of  frog : 45 %\n",
            "Accuracy of horse : 83 %\n",
            "Accuracy of  ship : 66 %\n",
            "Accuracy of truck : 50 %\n"
          ],
          "name": "stdout"
        }
      ]
    },
    {
      "cell_type": "markdown",
      "metadata": {
        "id": "Pq6dPvklM_W4",
        "colab_type": "text"
      },
      "source": [
        "# Graphs "
      ]
    },
    {
      "cell_type": "code",
      "metadata": {
        "id": "1sM6ERgxNaZ8",
        "colab_type": "code",
        "colab": {}
      },
      "source": [
        "import matplotlib.pyplot as plt\n",
        "import numpy as np"
      ],
      "execution_count": 0,
      "outputs": []
    },
    {
      "cell_type": "markdown",
      "metadata": {
        "id": "MJCafIhm-44w",
        "colab_type": "text"
      },
      "source": [
        "## Accuracy vs Epoch"
      ]
    },
    {
      "cell_type": "code",
      "metadata": {
        "id": "eSIAvrsz-7US",
        "colab_type": "code",
        "outputId": "ec4c0771-ec0e-47ea-bb18-0b7bdd4f66ed",
        "colab": {
          "base_uri": "https://localhost:8080/",
          "height": 300
        }
      },
      "source": [
        "x_val = np.arange(EPOCH)\n",
        "plt.plot(x_val, np.dot(accuracy_per_trainEpoch,0.01), color='blue', label='Training') # Training\n",
        "plt.plot(x_val, np.dot(accuracy_per_testEpoch,0.01), color='orange', label='Testing') # Testing\n",
        "maxVal = np.max(np.dot(accuracy_per_testEpoch,0.01))\n",
        "maxVal = np.full(len(accuracy_per_testEpoch), maxVal)\n",
        "plt.plot(x_val, maxVal, '--', color = 'orange')\n",
        "plt.ylim(0.35, 1) \n",
        "plt.xlabel('Epoch', fontsize=12)\n",
        "plt.ylabel('Accuracy', fontsize=12)\n",
        "plt.title('CNN: Validation Accuracy vs. Number of Training Epoch', fontsize=16)\n",
        "plt.legend()\n",
        "plt.savefig('CNN_acc_epoch.png') \n",
        "plt.show()"
      ],
      "execution_count": 0,
      "outputs": [
        {
          "output_type": "display_data",
          "data": {
            "image/png": "[encoded data removed]",
            "text/plain": [
              "<Figure size 432x288 with 1 Axes>"
            ]
          },
          "metadata": {
            "tags": [],
            "needs_background": "light"
          }
        }
      ]
    },
    {
      "cell_type": "markdown",
      "metadata": {
        "id": "nJ1gFKiNNEuE",
        "colab_type": "text"
      },
      "source": [
        "## Performance relative to each class"
      ]
    },
    {
      "cell_type": "code",
      "metadata": {
        "id": "edGej8wdNSCo",
        "colab_type": "code",
        "outputId": "28c99439-957f-4743-d385-4bbabfda2552",
        "colab": {
          "base_uri": "https://localhost:8080/",
          "height": 305
        }
      },
      "source": [
        " \n",
        "img_labels = ['plane', 'car', 'bird', 'cat', 'deer', 'dog', 'frog', 'horse', 'ship', 'truck']\n",
        "x_val = np.arange(len(img_labels))\n",
        "y_val = img_acc_list\n",
        "#plt.ylim(0.0, 0.75) \n",
        "plt.bar(x_val, y_val)\n",
        "plt.xticks(x_val, img_labels)\n",
        "plt.xlabel('Classes', fontsize=16)\n",
        "plt.ylabel('Accuracy', fontsize=16)\n",
        "plt.title('Class Accuracy CNN', fontsize=20)\n",
        "axes = plt.gca()\n",
        "axes.set_ylim([0,100])\n",
        "plt.savefig('CNN_class_accuracy.png') \n",
        "plt.show()"
      ],
      "execution_count": 0,
      "outputs": [
        {
          "output_type": "display_data",
          "data": {
            "image/png": "[encoded data removed]",
            "text/plain": [
              "<Figure size 432x288 with 1 Axes>"
            ]
          },
          "metadata": {
            "tags": [],
            "needs_background": "light"
          }
        }
      ]
    },
    {
      "cell_type": "markdown",
      "metadata": {
        "id": "PvrQk9UJP1_l",
        "colab_type": "text"
      },
      "source": [
        "## Loss vs Epoch"
      ]
    },
    {
      "cell_type": "code",
      "metadata": {
        "id": "oAFZYWzkQErZ",
        "colab_type": "code",
        "outputId": "3f60e17b-9fc7-4b9f-c3dd-259ce3372c68",
        "colab": {
          "base_uri": "https://localhost:8080/",
          "height": 300
        }
      },
      "source": [
        "y_val = loss_evolution\n",
        "x_val = np.arange(len(loss_evolution))\n",
        "\n",
        "plt.plot(x_val, y_val, color='orange')\n",
        "maxVal = np.max(y_val)\n",
        "maxVal = np.full(len(y_val), maxVal)\n",
        "#plt.plot(x_val, maxVal, '--', color = 'orange')\n",
        "#plt.ylim(0.25, 3) \n",
        "#plt.xticks(x_val, img_labels)\n",
        "plt.xlabel('Epoch', fontsize=12)\n",
        "plt.ylabel('Loss', fontsize=12)\n",
        "plt.title('CNN: Loss Evolution vs. Number of Training Epoch', fontsize=16)\n",
        "plt.savefig('CNN_loss_evolution.png') \n",
        "plt.show()"
      ],
      "execution_count": 0,
      "outputs": [
        {
          "output_type": "display_data",
          "data": {
            "image/png": "[encoded data removed]",
            "text/plain": [
              "<Figure size 432x288 with 1 Axes>"
            ]
          },
          "metadata": {
            "tags": [],
            "needs_background": "light"
          }
        }
      ]
    },
    {
      "cell_type": "markdown",
      "metadata": {
        "id": "WRl5vv-C3xbe",
        "colab_type": "text"
      },
      "source": [
        "## Class Category Performance"
      ]
    },
    {
      "cell_type": "code",
      "metadata": {
        "id": "SANYfM7HeYlh",
        "colab_type": "code",
        "outputId": "5064818e-ef72-4b63-99a2-7b64eadcf46b",
        "colab": {
          "base_uri": "https://localhost:8080/",
          "height": 305
        }
      },
      "source": [
        "plane = img_acc_list[0]\n",
        "car = img_acc_list[1]\n",
        "bird = img_acc_list[2]\n",
        "cat = img_acc_list[3]\n",
        "deer = img_acc_list[4]\n",
        "dog = img_acc_list[5]\n",
        "frog = img_acc_list[6]\n",
        "horse = img_acc_list[7]\n",
        "ship = img_acc_list[8]\n",
        "truck = img_acc_list[9]\n",
        "\n",
        "mechanical = [plane, car, ship, truck]\n",
        "animal = [bird, cat, deer, dog, frog, horse]\n",
        "\n",
        "mech_acc = np.average(mechanical)\n",
        "anim_acc = np.average(animal)\n",
        "\n",
        "x = [\"Mechanical\", \"Biological\"]\n",
        "x_val = np.arange(len(x))\n",
        "y_val = [mech_acc, anim_acc]\n",
        "axes = plt.gca()\n",
        "axes.set_ylim([0,100])\n",
        "plt.bar(x_val, y_val, color='green', edgecolor='black')\n",
        "plt.xticks(x_val, x)\n",
        "plt.xlabel('Image Type', fontsize=16)\n",
        "plt.ylabel('Accuracy', fontsize=16)\n",
        "plt.title('CNN: Performance vs. the Images\\' Nature', fontsize=20)\n",
        "plt.savefig('CNN_acc_img_nature.png') \n",
        "plt.show()"
      ],
      "execution_count": 0,
      "outputs": [
        {
          "output_type": "display_data",
          "data": {
            "image/png": "[encoded data removed]",
            "text/plain": [
              "<Figure size 432x288 with 1 Axes>"
            ]
          },
          "metadata": {
            "tags": [],
            "needs_background": "light"
          }
        }
      ]
    },
    {
      "cell_type": "code",
      "metadata": {
        "id": "Mf3WbeQb4aY8",
        "colab_type": "code",
        "colab": {}
      },
      "source": [
        ""
      ],
      "execution_count": 0,
      "outputs": []
    }
  ]
}